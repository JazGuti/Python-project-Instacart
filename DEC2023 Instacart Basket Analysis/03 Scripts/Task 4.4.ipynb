{
 "cells": [
  {
   "cell_type": "markdown",
   "id": "2376a68e",
   "metadata": {},
   "source": [
    "# 01 Importing libraries and Data"
   ]
  },
  {
   "cell_type": "code",
   "execution_count": 1,
   "id": "32a3177b",
   "metadata": {},
   "outputs": [],
   "source": [
    "#importing libraries \n",
    "import pandas as pd\n",
    "import numpy as np\n",
    "import os"
   ]
  },
  {
   "cell_type": "code",
   "execution_count": 2,
   "id": "c50ca24d",
   "metadata": {},
   "outputs": [],
   "source": [
    "path = r'/Users/jazmingutierrez/DEC2023 Instacart Basket Analysis'"
   ]
  },
  {
   "cell_type": "code",
   "execution_count": 3,
   "id": "7f2d9931",
   "metadata": {},
   "outputs": [],
   "source": [
    "df_ords = pd.read_csv(os.path.join(path, '02 Data', 'Original Data', 'orders.csv'), index_col = False)"
   ]
  },
  {
   "cell_type": "code",
   "execution_count": 4,
   "id": "d3497e06",
   "metadata": {},
   "outputs": [],
   "source": [
    "df_prods= pd.read_csv(os.path.join(path, '02 Data', 'Original Data', 'products.csv'), index_col = False)"
   ]
  },
  {
   "cell_type": "code",
   "execution_count": 5,
   "id": "ab6d2ad3",
   "metadata": {},
   "outputs": [],
   "source": [
    "df_dep = pd.read_csv(os.path.join(path, '02 Data', 'Original Data', 'departments.csv'), index_col=False)"
   ]
  },
  {
   "cell_type": "code",
   "execution_count": 6,
   "id": "7c5a176c",
   "metadata": {},
   "outputs": [
    {
     "data": {
      "text/plain": [
       "'/Users/jazmingutierrez/DEC2023 Instacart Basket Analysis'"
      ]
     },
     "execution_count": 6,
     "metadata": {},
     "output_type": "execute_result"
    }
   ],
   "source": [
    "path"
   ]
  },
  {
   "cell_type": "markdown",
   "id": "9a62dc88",
   "metadata": {},
   "source": [
    "# 02 Wrangling Procedures"
   ]
  },
  {
   "cell_type": "code",
   "execution_count": 7,
   "id": "ff65907f",
   "metadata": {},
   "outputs": [
    {
     "data": {
      "text/plain": [
       "Index(['order_id', 'user_id', 'eval_set', 'order_number', 'order_dow',\n",
       "       'order_hour_of_day', 'days_since_prior_order'],\n",
       "      dtype='object')"
      ]
     },
     "execution_count": 7,
     "metadata": {},
     "output_type": "execute_result"
    }
   ],
   "source": [
    "df_ords.columns"
   ]
  },
  {
   "cell_type": "code",
   "execution_count": 8,
   "id": "4d9b3aa5",
   "metadata": {},
   "outputs": [],
   "source": [
    "# Dropping eval_set\n",
    "df_ords = df_ords.drop(columns = ['eval_set'])"
   ]
  },
  {
   "cell_type": "code",
   "execution_count": 9,
   "id": "8598f3bb",
   "metadata": {},
   "outputs": [
    {
     "data": {
      "text/html": [
       "<div>\n",
       "<style scoped>\n",
       "    .dataframe tbody tr th:only-of-type {\n",
       "        vertical-align: middle;\n",
       "    }\n",
       "\n",
       "    .dataframe tbody tr th {\n",
       "        vertical-align: top;\n",
       "    }\n",
       "\n",
       "    .dataframe thead th {\n",
       "        text-align: right;\n",
       "    }\n",
       "</style>\n",
       "<table border=\"1\" class=\"dataframe\">\n",
       "  <thead>\n",
       "    <tr style=\"text-align: right;\">\n",
       "      <th></th>\n",
       "      <th>order_id</th>\n",
       "      <th>user_id</th>\n",
       "      <th>order_number</th>\n",
       "      <th>order_dow</th>\n",
       "      <th>order_hour_of_day</th>\n",
       "      <th>days_since_prior_order</th>\n",
       "    </tr>\n",
       "  </thead>\n",
       "  <tbody>\n",
       "    <tr>\n",
       "      <th>0</th>\n",
       "      <td>2539329</td>\n",
       "      <td>1</td>\n",
       "      <td>1</td>\n",
       "      <td>2</td>\n",
       "      <td>8</td>\n",
       "      <td>NaN</td>\n",
       "    </tr>\n",
       "    <tr>\n",
       "      <th>1</th>\n",
       "      <td>2398795</td>\n",
       "      <td>1</td>\n",
       "      <td>2</td>\n",
       "      <td>3</td>\n",
       "      <td>7</td>\n",
       "      <td>15.0</td>\n",
       "    </tr>\n",
       "    <tr>\n",
       "      <th>2</th>\n",
       "      <td>473747</td>\n",
       "      <td>1</td>\n",
       "      <td>3</td>\n",
       "      <td>3</td>\n",
       "      <td>12</td>\n",
       "      <td>21.0</td>\n",
       "    </tr>\n",
       "    <tr>\n",
       "      <th>3</th>\n",
       "      <td>2254736</td>\n",
       "      <td>1</td>\n",
       "      <td>4</td>\n",
       "      <td>4</td>\n",
       "      <td>7</td>\n",
       "      <td>29.0</td>\n",
       "    </tr>\n",
       "    <tr>\n",
       "      <th>4</th>\n",
       "      <td>431534</td>\n",
       "      <td>1</td>\n",
       "      <td>5</td>\n",
       "      <td>4</td>\n",
       "      <td>15</td>\n",
       "      <td>28.0</td>\n",
       "    </tr>\n",
       "  </tbody>\n",
       "</table>\n",
       "</div>"
      ],
      "text/plain": [
       "   order_id  user_id  order_number  order_dow  order_hour_of_day  \\\n",
       "0   2539329        1             1          2                  8   \n",
       "1   2398795        1             2          3                  7   \n",
       "2    473747        1             3          3                 12   \n",
       "3   2254736        1             4          4                  7   \n",
       "4    431534        1             5          4                 15   \n",
       "\n",
       "   days_since_prior_order  \n",
       "0                     NaN  \n",
       "1                    15.0  \n",
       "2                    21.0  \n",
       "3                    29.0  \n",
       "4                    28.0  "
      ]
     },
     "execution_count": 9,
     "metadata": {},
     "output_type": "execute_result"
    }
   ],
   "source": [
    "df_ords.head()"
   ]
  },
  {
   "cell_type": "code",
   "execution_count": 10,
   "id": "c22f7a5a",
   "metadata": {},
   "outputs": [
    {
     "data": {
      "text/plain": [
       "days_since_prior_order\n",
       "30.0    369323\n",
       "7.0     320608\n",
       "6.0     240013\n",
       "4.0     221696\n",
       "3.0     217005\n",
       "5.0     214503\n",
       "NaN     206209\n",
       "2.0     193206\n",
       "8.0     181717\n",
       "1.0     145247\n",
       "9.0     118188\n",
       "14.0    100230\n",
       "10.0     95186\n",
       "13.0     83214\n",
       "11.0     80970\n",
       "12.0     76146\n",
       "0.0      67755\n",
       "15.0     66579\n",
       "16.0     46941\n",
       "21.0     45470\n",
       "17.0     39245\n",
       "20.0     38527\n",
       "18.0     35881\n",
       "19.0     34384\n",
       "22.0     32012\n",
       "28.0     26777\n",
       "23.0     23885\n",
       "27.0     22013\n",
       "24.0     20712\n",
       "25.0     19234\n",
       "29.0     19191\n",
       "26.0     19016\n",
       "Name: count, dtype: int64"
      ]
     },
     "execution_count": 10,
     "metadata": {},
     "output_type": "execute_result"
    }
   ],
   "source": [
    "df_ords['days_since_prior_order'].value_counts(dropna = False)"
   ]
  },
  {
   "cell_type": "code",
   "execution_count": 11,
   "id": "004a4e1a",
   "metadata": {},
   "outputs": [],
   "source": [
    "# Renaming order_dow\n",
    "df_ords.rename(columns = {'order_dow' : 'orders_day_of_week'}, inplace  = True)"
   ]
  },
  {
   "cell_type": "code",
   "execution_count": 12,
   "id": "44000ef2",
   "metadata": {},
   "outputs": [
    {
     "data": {
      "text/html": [
       "<div>\n",
       "<style scoped>\n",
       "    .dataframe tbody tr th:only-of-type {\n",
       "        vertical-align: middle;\n",
       "    }\n",
       "\n",
       "    .dataframe tbody tr th {\n",
       "        vertical-align: top;\n",
       "    }\n",
       "\n",
       "    .dataframe thead th {\n",
       "        text-align: right;\n",
       "    }\n",
       "</style>\n",
       "<table border=\"1\" class=\"dataframe\">\n",
       "  <thead>\n",
       "    <tr style=\"text-align: right;\">\n",
       "      <th></th>\n",
       "      <th>order_id</th>\n",
       "      <th>user_id</th>\n",
       "      <th>order_number</th>\n",
       "      <th>orders_day_of_week</th>\n",
       "      <th>order_hour_of_day</th>\n",
       "      <th>days_since_prior_order</th>\n",
       "    </tr>\n",
       "  </thead>\n",
       "  <tbody>\n",
       "    <tr>\n",
       "      <th>0</th>\n",
       "      <td>2539329</td>\n",
       "      <td>1</td>\n",
       "      <td>1</td>\n",
       "      <td>2</td>\n",
       "      <td>8</td>\n",
       "      <td>NaN</td>\n",
       "    </tr>\n",
       "    <tr>\n",
       "      <th>1</th>\n",
       "      <td>2398795</td>\n",
       "      <td>1</td>\n",
       "      <td>2</td>\n",
       "      <td>3</td>\n",
       "      <td>7</td>\n",
       "      <td>15.0</td>\n",
       "    </tr>\n",
       "    <tr>\n",
       "      <th>2</th>\n",
       "      <td>473747</td>\n",
       "      <td>1</td>\n",
       "      <td>3</td>\n",
       "      <td>3</td>\n",
       "      <td>12</td>\n",
       "      <td>21.0</td>\n",
       "    </tr>\n",
       "    <tr>\n",
       "      <th>3</th>\n",
       "      <td>2254736</td>\n",
       "      <td>1</td>\n",
       "      <td>4</td>\n",
       "      <td>4</td>\n",
       "      <td>7</td>\n",
       "      <td>29.0</td>\n",
       "    </tr>\n",
       "    <tr>\n",
       "      <th>4</th>\n",
       "      <td>431534</td>\n",
       "      <td>1</td>\n",
       "      <td>5</td>\n",
       "      <td>4</td>\n",
       "      <td>15</td>\n",
       "      <td>28.0</td>\n",
       "    </tr>\n",
       "  </tbody>\n",
       "</table>\n",
       "</div>"
      ],
      "text/plain": [
       "   order_id  user_id  order_number  orders_day_of_week  order_hour_of_day  \\\n",
       "0   2539329        1             1                   2                  8   \n",
       "1   2398795        1             2                   3                  7   \n",
       "2    473747        1             3                   3                 12   \n",
       "3   2254736        1             4                   4                  7   \n",
       "4    431534        1             5                   4                 15   \n",
       "\n",
       "   days_since_prior_order  \n",
       "0                     NaN  \n",
       "1                    15.0  \n",
       "2                    21.0  \n",
       "3                    29.0  \n",
       "4                    28.0  "
      ]
     },
     "execution_count": 12,
     "metadata": {},
     "output_type": "execute_result"
    }
   ],
   "source": [
    "df_ords.head()"
   ]
  },
  {
   "cell_type": "code",
   "execution_count": 13,
   "id": "15d58765",
   "metadata": {},
   "outputs": [
    {
     "data": {
      "text/html": [
       "<div>\n",
       "<style scoped>\n",
       "    .dataframe tbody tr th:only-of-type {\n",
       "        vertical-align: middle;\n",
       "    }\n",
       "\n",
       "    .dataframe tbody tr th {\n",
       "        vertical-align: top;\n",
       "    }\n",
       "\n",
       "    .dataframe thead th {\n",
       "        text-align: right;\n",
       "    }\n",
       "</style>\n",
       "<table border=\"1\" class=\"dataframe\">\n",
       "  <thead>\n",
       "    <tr style=\"text-align: right;\">\n",
       "      <th></th>\n",
       "      <th>order_id</th>\n",
       "      <th>user_id</th>\n",
       "      <th>order_number</th>\n",
       "      <th>orders_day_of_week</th>\n",
       "      <th>order_hour_of_day</th>\n",
       "      <th>days_since_prior_order</th>\n",
       "    </tr>\n",
       "  </thead>\n",
       "  <tbody>\n",
       "    <tr>\n",
       "      <th>count</th>\n",
       "      <td>3.421083e+06</td>\n",
       "      <td>3.421083e+06</td>\n",
       "      <td>3.421083e+06</td>\n",
       "      <td>3.421083e+06</td>\n",
       "      <td>3.421083e+06</td>\n",
       "      <td>3.214874e+06</td>\n",
       "    </tr>\n",
       "    <tr>\n",
       "      <th>mean</th>\n",
       "      <td>1.710542e+06</td>\n",
       "      <td>1.029782e+05</td>\n",
       "      <td>1.715486e+01</td>\n",
       "      <td>2.776219e+00</td>\n",
       "      <td>1.345202e+01</td>\n",
       "      <td>1.111484e+01</td>\n",
       "    </tr>\n",
       "    <tr>\n",
       "      <th>std</th>\n",
       "      <td>9.875817e+05</td>\n",
       "      <td>5.953372e+04</td>\n",
       "      <td>1.773316e+01</td>\n",
       "      <td>2.046829e+00</td>\n",
       "      <td>4.226088e+00</td>\n",
       "      <td>9.206737e+00</td>\n",
       "    </tr>\n",
       "    <tr>\n",
       "      <th>min</th>\n",
       "      <td>1.000000e+00</td>\n",
       "      <td>1.000000e+00</td>\n",
       "      <td>1.000000e+00</td>\n",
       "      <td>0.000000e+00</td>\n",
       "      <td>0.000000e+00</td>\n",
       "      <td>0.000000e+00</td>\n",
       "    </tr>\n",
       "    <tr>\n",
       "      <th>25%</th>\n",
       "      <td>8.552715e+05</td>\n",
       "      <td>5.139400e+04</td>\n",
       "      <td>5.000000e+00</td>\n",
       "      <td>1.000000e+00</td>\n",
       "      <td>1.000000e+01</td>\n",
       "      <td>4.000000e+00</td>\n",
       "    </tr>\n",
       "    <tr>\n",
       "      <th>50%</th>\n",
       "      <td>1.710542e+06</td>\n",
       "      <td>1.026890e+05</td>\n",
       "      <td>1.100000e+01</td>\n",
       "      <td>3.000000e+00</td>\n",
       "      <td>1.300000e+01</td>\n",
       "      <td>7.000000e+00</td>\n",
       "    </tr>\n",
       "    <tr>\n",
       "      <th>75%</th>\n",
       "      <td>2.565812e+06</td>\n",
       "      <td>1.543850e+05</td>\n",
       "      <td>2.300000e+01</td>\n",
       "      <td>5.000000e+00</td>\n",
       "      <td>1.600000e+01</td>\n",
       "      <td>1.500000e+01</td>\n",
       "    </tr>\n",
       "    <tr>\n",
       "      <th>max</th>\n",
       "      <td>3.421083e+06</td>\n",
       "      <td>2.062090e+05</td>\n",
       "      <td>1.000000e+02</td>\n",
       "      <td>6.000000e+00</td>\n",
       "      <td>2.300000e+01</td>\n",
       "      <td>3.000000e+01</td>\n",
       "    </tr>\n",
       "  </tbody>\n",
       "</table>\n",
       "</div>"
      ],
      "text/plain": [
       "           order_id       user_id  order_number  orders_day_of_week  \\\n",
       "count  3.421083e+06  3.421083e+06  3.421083e+06        3.421083e+06   \n",
       "mean   1.710542e+06  1.029782e+05  1.715486e+01        2.776219e+00   \n",
       "std    9.875817e+05  5.953372e+04  1.773316e+01        2.046829e+00   \n",
       "min    1.000000e+00  1.000000e+00  1.000000e+00        0.000000e+00   \n",
       "25%    8.552715e+05  5.139400e+04  5.000000e+00        1.000000e+00   \n",
       "50%    1.710542e+06  1.026890e+05  1.100000e+01        3.000000e+00   \n",
       "75%    2.565812e+06  1.543850e+05  2.300000e+01        5.000000e+00   \n",
       "max    3.421083e+06  2.062090e+05  1.000000e+02        6.000000e+00   \n",
       "\n",
       "       order_hour_of_day  days_since_prior_order  \n",
       "count       3.421083e+06            3.214874e+06  \n",
       "mean        1.345202e+01            1.111484e+01  \n",
       "std         4.226088e+00            9.206737e+00  \n",
       "min         0.000000e+00            0.000000e+00  \n",
       "25%         1.000000e+01            4.000000e+00  \n",
       "50%         1.300000e+01            7.000000e+00  \n",
       "75%         1.600000e+01            1.500000e+01  \n",
       "max         2.300000e+01            3.000000e+01  "
      ]
     },
     "execution_count": 13,
     "metadata": {},
     "output_type": "execute_result"
    }
   ],
   "source": [
    "# Changing Variable Type\n",
    "df_ords.describe()"
   ]
  },
  {
   "cell_type": "code",
   "execution_count": 14,
   "id": "6be45a64",
   "metadata": {},
   "outputs": [],
   "source": [
    "# Changing Variable Type\n",
    "df_ords['order_id'] = df_ords['order_id'].astype('str')"
   ]
  },
  {
   "cell_type": "code",
   "execution_count": 15,
   "id": "de21f217",
   "metadata": {},
   "outputs": [
    {
     "data": {
      "text/plain": [
       "dtype('O')"
      ]
     },
     "execution_count": 15,
     "metadata": {},
     "output_type": "execute_result"
    }
   ],
   "source": [
    "df_ords['order_id'].dtype"
   ]
  },
  {
   "cell_type": "code",
   "execution_count": 16,
   "id": "c1c5950d",
   "metadata": {},
   "outputs": [],
   "source": [
    "# Transposing df_dep\n",
    "df_dep_t = df_dep.T"
   ]
  },
  {
   "cell_type": "code",
   "execution_count": 17,
   "id": "ce7d593a",
   "metadata": {},
   "outputs": [
    {
     "data": {
      "text/html": [
       "<div>\n",
       "<style scoped>\n",
       "    .dataframe tbody tr th:only-of-type {\n",
       "        vertical-align: middle;\n",
       "    }\n",
       "\n",
       "    .dataframe tbody tr th {\n",
       "        vertical-align: top;\n",
       "    }\n",
       "\n",
       "    .dataframe thead th {\n",
       "        text-align: right;\n",
       "    }\n",
       "</style>\n",
       "<table border=\"1\" class=\"dataframe\">\n",
       "  <thead>\n",
       "    <tr style=\"text-align: right;\">\n",
       "      <th></th>\n",
       "      <th>index</th>\n",
       "      <th>0</th>\n",
       "    </tr>\n",
       "  </thead>\n",
       "  <tbody>\n",
       "    <tr>\n",
       "      <th>0</th>\n",
       "      <td>department_id</td>\n",
       "      <td>department</td>\n",
       "    </tr>\n",
       "    <tr>\n",
       "      <th>1</th>\n",
       "      <td>1</td>\n",
       "      <td>frozen</td>\n",
       "    </tr>\n",
       "    <tr>\n",
       "      <th>2</th>\n",
       "      <td>2</td>\n",
       "      <td>other</td>\n",
       "    </tr>\n",
       "    <tr>\n",
       "      <th>3</th>\n",
       "      <td>3</td>\n",
       "      <td>bakery</td>\n",
       "    </tr>\n",
       "    <tr>\n",
       "      <th>4</th>\n",
       "      <td>4</td>\n",
       "      <td>produce</td>\n",
       "    </tr>\n",
       "    <tr>\n",
       "      <th>5</th>\n",
       "      <td>5</td>\n",
       "      <td>alcohol</td>\n",
       "    </tr>\n",
       "    <tr>\n",
       "      <th>6</th>\n",
       "      <td>6</td>\n",
       "      <td>international</td>\n",
       "    </tr>\n",
       "    <tr>\n",
       "      <th>7</th>\n",
       "      <td>7</td>\n",
       "      <td>beverages</td>\n",
       "    </tr>\n",
       "    <tr>\n",
       "      <th>8</th>\n",
       "      <td>8</td>\n",
       "      <td>pets</td>\n",
       "    </tr>\n",
       "    <tr>\n",
       "      <th>9</th>\n",
       "      <td>9</td>\n",
       "      <td>dry goods pasta</td>\n",
       "    </tr>\n",
       "    <tr>\n",
       "      <th>10</th>\n",
       "      <td>10</td>\n",
       "      <td>bulk</td>\n",
       "    </tr>\n",
       "    <tr>\n",
       "      <th>11</th>\n",
       "      <td>11</td>\n",
       "      <td>personal care</td>\n",
       "    </tr>\n",
       "    <tr>\n",
       "      <th>12</th>\n",
       "      <td>12</td>\n",
       "      <td>meat seafood</td>\n",
       "    </tr>\n",
       "    <tr>\n",
       "      <th>13</th>\n",
       "      <td>13</td>\n",
       "      <td>pantry</td>\n",
       "    </tr>\n",
       "    <tr>\n",
       "      <th>14</th>\n",
       "      <td>14</td>\n",
       "      <td>breakfast</td>\n",
       "    </tr>\n",
       "    <tr>\n",
       "      <th>15</th>\n",
       "      <td>15</td>\n",
       "      <td>canned goods</td>\n",
       "    </tr>\n",
       "    <tr>\n",
       "      <th>16</th>\n",
       "      <td>16</td>\n",
       "      <td>dairy eggs</td>\n",
       "    </tr>\n",
       "    <tr>\n",
       "      <th>17</th>\n",
       "      <td>17</td>\n",
       "      <td>household</td>\n",
       "    </tr>\n",
       "    <tr>\n",
       "      <th>18</th>\n",
       "      <td>18</td>\n",
       "      <td>babies</td>\n",
       "    </tr>\n",
       "    <tr>\n",
       "      <th>19</th>\n",
       "      <td>19</td>\n",
       "      <td>snacks</td>\n",
       "    </tr>\n",
       "    <tr>\n",
       "      <th>20</th>\n",
       "      <td>20</td>\n",
       "      <td>deli</td>\n",
       "    </tr>\n",
       "    <tr>\n",
       "      <th>21</th>\n",
       "      <td>21</td>\n",
       "      <td>missing</td>\n",
       "    </tr>\n",
       "  </tbody>\n",
       "</table>\n",
       "</div>"
      ],
      "text/plain": [
       "            index                0\n",
       "0   department_id       department\n",
       "1               1           frozen\n",
       "2               2            other\n",
       "3               3           bakery\n",
       "4               4          produce\n",
       "5               5          alcohol\n",
       "6               6    international\n",
       "7               7        beverages\n",
       "8               8             pets\n",
       "9               9  dry goods pasta\n",
       "10             10             bulk\n",
       "11             11    personal care\n",
       "12             12     meat seafood\n",
       "13             13           pantry\n",
       "14             14        breakfast\n",
       "15             15     canned goods\n",
       "16             16       dairy eggs\n",
       "17             17        household\n",
       "18             18           babies\n",
       "19             19           snacks\n",
       "20             20             deli\n",
       "21             21          missing"
      ]
     },
     "execution_count": 17,
     "metadata": {},
     "output_type": "execute_result"
    }
   ],
   "source": [
    "df_dep_t.reset_index()"
   ]
  },
  {
   "cell_type": "code",
   "execution_count": 18,
   "id": "6fc8cae7",
   "metadata": {},
   "outputs": [],
   "source": [
    "# Take the first row of df_dep_t for the header\n",
    "new_header = df_dep_t.iloc[0]"
   ]
  },
  {
   "cell_type": "code",
   "execution_count": 19,
   "id": "77b76d45",
   "metadata": {},
   "outputs": [
    {
     "data": {
      "text/plain": [
       "0    department\n",
       "Name: department_id, dtype: object"
      ]
     },
     "execution_count": 19,
     "metadata": {},
     "output_type": "execute_result"
    }
   ],
   "source": [
    "new_header"
   ]
  },
  {
   "cell_type": "code",
   "execution_count": 20,
   "id": "a8c37e0a",
   "metadata": {},
   "outputs": [],
   "source": [
    "# Take the data under the header row for a new df\n",
    "df_dep_t_new = df_dep_t[1:]"
   ]
  },
  {
   "cell_type": "code",
   "execution_count": 21,
   "id": "81c50148",
   "metadata": {},
   "outputs": [
    {
     "data": {
      "text/html": [
       "<div>\n",
       "<style scoped>\n",
       "    .dataframe tbody tr th:only-of-type {\n",
       "        vertical-align: middle;\n",
       "    }\n",
       "\n",
       "    .dataframe tbody tr th {\n",
       "        vertical-align: top;\n",
       "    }\n",
       "\n",
       "    .dataframe thead th {\n",
       "        text-align: right;\n",
       "    }\n",
       "</style>\n",
       "<table border=\"1\" class=\"dataframe\">\n",
       "  <thead>\n",
       "    <tr style=\"text-align: right;\">\n",
       "      <th></th>\n",
       "      <th>0</th>\n",
       "    </tr>\n",
       "  </thead>\n",
       "  <tbody>\n",
       "    <tr>\n",
       "      <th>1</th>\n",
       "      <td>frozen</td>\n",
       "    </tr>\n",
       "    <tr>\n",
       "      <th>2</th>\n",
       "      <td>other</td>\n",
       "    </tr>\n",
       "    <tr>\n",
       "      <th>3</th>\n",
       "      <td>bakery</td>\n",
       "    </tr>\n",
       "    <tr>\n",
       "      <th>4</th>\n",
       "      <td>produce</td>\n",
       "    </tr>\n",
       "    <tr>\n",
       "      <th>5</th>\n",
       "      <td>alcohol</td>\n",
       "    </tr>\n",
       "    <tr>\n",
       "      <th>6</th>\n",
       "      <td>international</td>\n",
       "    </tr>\n",
       "    <tr>\n",
       "      <th>7</th>\n",
       "      <td>beverages</td>\n",
       "    </tr>\n",
       "    <tr>\n",
       "      <th>8</th>\n",
       "      <td>pets</td>\n",
       "    </tr>\n",
       "    <tr>\n",
       "      <th>9</th>\n",
       "      <td>dry goods pasta</td>\n",
       "    </tr>\n",
       "    <tr>\n",
       "      <th>10</th>\n",
       "      <td>bulk</td>\n",
       "    </tr>\n",
       "    <tr>\n",
       "      <th>11</th>\n",
       "      <td>personal care</td>\n",
       "    </tr>\n",
       "    <tr>\n",
       "      <th>12</th>\n",
       "      <td>meat seafood</td>\n",
       "    </tr>\n",
       "    <tr>\n",
       "      <th>13</th>\n",
       "      <td>pantry</td>\n",
       "    </tr>\n",
       "    <tr>\n",
       "      <th>14</th>\n",
       "      <td>breakfast</td>\n",
       "    </tr>\n",
       "    <tr>\n",
       "      <th>15</th>\n",
       "      <td>canned goods</td>\n",
       "    </tr>\n",
       "    <tr>\n",
       "      <th>16</th>\n",
       "      <td>dairy eggs</td>\n",
       "    </tr>\n",
       "    <tr>\n",
       "      <th>17</th>\n",
       "      <td>household</td>\n",
       "    </tr>\n",
       "    <tr>\n",
       "      <th>18</th>\n",
       "      <td>babies</td>\n",
       "    </tr>\n",
       "    <tr>\n",
       "      <th>19</th>\n",
       "      <td>snacks</td>\n",
       "    </tr>\n",
       "    <tr>\n",
       "      <th>20</th>\n",
       "      <td>deli</td>\n",
       "    </tr>\n",
       "    <tr>\n",
       "      <th>21</th>\n",
       "      <td>missing</td>\n",
       "    </tr>\n",
       "  </tbody>\n",
       "</table>\n",
       "</div>"
      ],
      "text/plain": [
       "                  0\n",
       "1            frozen\n",
       "2             other\n",
       "3            bakery\n",
       "4           produce\n",
       "5           alcohol\n",
       "6     international\n",
       "7         beverages\n",
       "8              pets\n",
       "9   dry goods pasta\n",
       "10             bulk\n",
       "11    personal care\n",
       "12     meat seafood\n",
       "13           pantry\n",
       "14        breakfast\n",
       "15     canned goods\n",
       "16       dairy eggs\n",
       "17        household\n",
       "18           babies\n",
       "19           snacks\n",
       "20             deli\n",
       "21          missing"
      ]
     },
     "execution_count": 21,
     "metadata": {},
     "output_type": "execute_result"
    }
   ],
   "source": [
    "df_dep_t_new"
   ]
  },
  {
   "cell_type": "code",
   "execution_count": 22,
   "id": "f9878214",
   "metadata": {},
   "outputs": [],
   "source": [
    "# Set header row as the df header\n",
    "df_dep_t_new.columns = new_header"
   ]
  },
  {
   "cell_type": "code",
   "execution_count": 23,
   "id": "709a3645",
   "metadata": {},
   "outputs": [
    {
     "data": {
      "text/html": [
       "<div>\n",
       "<style scoped>\n",
       "    .dataframe tbody tr th:only-of-type {\n",
       "        vertical-align: middle;\n",
       "    }\n",
       "\n",
       "    .dataframe tbody tr th {\n",
       "        vertical-align: top;\n",
       "    }\n",
       "\n",
       "    .dataframe thead th {\n",
       "        text-align: right;\n",
       "    }\n",
       "</style>\n",
       "<table border=\"1\" class=\"dataframe\">\n",
       "  <thead>\n",
       "    <tr style=\"text-align: right;\">\n",
       "      <th>department_id</th>\n",
       "      <th>department</th>\n",
       "    </tr>\n",
       "  </thead>\n",
       "  <tbody>\n",
       "    <tr>\n",
       "      <th>1</th>\n",
       "      <td>frozen</td>\n",
       "    </tr>\n",
       "    <tr>\n",
       "      <th>2</th>\n",
       "      <td>other</td>\n",
       "    </tr>\n",
       "    <tr>\n",
       "      <th>3</th>\n",
       "      <td>bakery</td>\n",
       "    </tr>\n",
       "    <tr>\n",
       "      <th>4</th>\n",
       "      <td>produce</td>\n",
       "    </tr>\n",
       "    <tr>\n",
       "      <th>5</th>\n",
       "      <td>alcohol</td>\n",
       "    </tr>\n",
       "    <tr>\n",
       "      <th>6</th>\n",
       "      <td>international</td>\n",
       "    </tr>\n",
       "    <tr>\n",
       "      <th>7</th>\n",
       "      <td>beverages</td>\n",
       "    </tr>\n",
       "    <tr>\n",
       "      <th>8</th>\n",
       "      <td>pets</td>\n",
       "    </tr>\n",
       "    <tr>\n",
       "      <th>9</th>\n",
       "      <td>dry goods pasta</td>\n",
       "    </tr>\n",
       "    <tr>\n",
       "      <th>10</th>\n",
       "      <td>bulk</td>\n",
       "    </tr>\n",
       "    <tr>\n",
       "      <th>11</th>\n",
       "      <td>personal care</td>\n",
       "    </tr>\n",
       "    <tr>\n",
       "      <th>12</th>\n",
       "      <td>meat seafood</td>\n",
       "    </tr>\n",
       "    <tr>\n",
       "      <th>13</th>\n",
       "      <td>pantry</td>\n",
       "    </tr>\n",
       "    <tr>\n",
       "      <th>14</th>\n",
       "      <td>breakfast</td>\n",
       "    </tr>\n",
       "    <tr>\n",
       "      <th>15</th>\n",
       "      <td>canned goods</td>\n",
       "    </tr>\n",
       "    <tr>\n",
       "      <th>16</th>\n",
       "      <td>dairy eggs</td>\n",
       "    </tr>\n",
       "    <tr>\n",
       "      <th>17</th>\n",
       "      <td>household</td>\n",
       "    </tr>\n",
       "    <tr>\n",
       "      <th>18</th>\n",
       "      <td>babies</td>\n",
       "    </tr>\n",
       "    <tr>\n",
       "      <th>19</th>\n",
       "      <td>snacks</td>\n",
       "    </tr>\n",
       "    <tr>\n",
       "      <th>20</th>\n",
       "      <td>deli</td>\n",
       "    </tr>\n",
       "    <tr>\n",
       "      <th>21</th>\n",
       "      <td>missing</td>\n",
       "    </tr>\n",
       "  </tbody>\n",
       "</table>\n",
       "</div>"
      ],
      "text/plain": [
       "department_id       department\n",
       "1                       frozen\n",
       "2                        other\n",
       "3                       bakery\n",
       "4                      produce\n",
       "5                      alcohol\n",
       "6                international\n",
       "7                    beverages\n",
       "8                         pets\n",
       "9              dry goods pasta\n",
       "10                        bulk\n",
       "11               personal care\n",
       "12                meat seafood\n",
       "13                      pantry\n",
       "14                   breakfast\n",
       "15                canned goods\n",
       "16                  dairy eggs\n",
       "17                   household\n",
       "18                      babies\n",
       "19                      snacks\n",
       "20                        deli\n",
       "21                     missing"
      ]
     },
     "execution_count": 23,
     "metadata": {},
     "output_type": "execute_result"
    }
   ],
   "source": [
    "df_dep_t_new"
   ]
  },
  {
   "cell_type": "markdown",
   "id": "14abc512",
   "metadata": {},
   "source": [
    "# 2. Changing another variable \n"
   ]
  },
  {
   "cell_type": "code",
   "execution_count": 24,
   "id": "1dd5203d",
   "metadata": {},
   "outputs": [
    {
     "data": {
      "text/plain": [
       "0               1\n",
       "1               1\n",
       "2               1\n",
       "3               1\n",
       "4               1\n",
       "            ...  \n",
       "3421078    206209\n",
       "3421079    206209\n",
       "3421080    206209\n",
       "3421081    206209\n",
       "3421082    206209\n",
       "Name: user_id, Length: 3421083, dtype: object"
      ]
     },
     "execution_count": 24,
     "metadata": {},
     "output_type": "execute_result"
    }
   ],
   "source": [
    "# Changing a Variable\n",
    "df_ords['user_id'].astype('str')"
   ]
  },
  {
   "cell_type": "markdown",
   "id": "650f28d8",
   "metadata": {},
   "source": [
    "# 3. Renaming variable in df.ords"
   ]
  },
  {
   "cell_type": "code",
   "execution_count": 25,
   "id": "3b394893",
   "metadata": {},
   "outputs": [],
   "source": [
    "# Renaming order_hour_of_day\n",
    "df_ords.rename(columns = {'order_hour_of_day' : 'time_of_day'}, inplace = True)"
   ]
  },
  {
   "cell_type": "code",
   "execution_count": 26,
   "id": "57fa04ce",
   "metadata": {},
   "outputs": [
    {
     "data": {
      "text/html": [
       "<div>\n",
       "<style scoped>\n",
       "    .dataframe tbody tr th:only-of-type {\n",
       "        vertical-align: middle;\n",
       "    }\n",
       "\n",
       "    .dataframe tbody tr th {\n",
       "        vertical-align: top;\n",
       "    }\n",
       "\n",
       "    .dataframe thead th {\n",
       "        text-align: right;\n",
       "    }\n",
       "</style>\n",
       "<table border=\"1\" class=\"dataframe\">\n",
       "  <thead>\n",
       "    <tr style=\"text-align: right;\">\n",
       "      <th></th>\n",
       "      <th>order_id</th>\n",
       "      <th>user_id</th>\n",
       "      <th>order_number</th>\n",
       "      <th>orders_day_of_week</th>\n",
       "      <th>time_of_day</th>\n",
       "      <th>days_since_prior_order</th>\n",
       "    </tr>\n",
       "  </thead>\n",
       "  <tbody>\n",
       "    <tr>\n",
       "      <th>0</th>\n",
       "      <td>2539329</td>\n",
       "      <td>1</td>\n",
       "      <td>1</td>\n",
       "      <td>2</td>\n",
       "      <td>8</td>\n",
       "      <td>NaN</td>\n",
       "    </tr>\n",
       "    <tr>\n",
       "      <th>1</th>\n",
       "      <td>2398795</td>\n",
       "      <td>1</td>\n",
       "      <td>2</td>\n",
       "      <td>3</td>\n",
       "      <td>7</td>\n",
       "      <td>15.0</td>\n",
       "    </tr>\n",
       "    <tr>\n",
       "      <th>2</th>\n",
       "      <td>473747</td>\n",
       "      <td>1</td>\n",
       "      <td>3</td>\n",
       "      <td>3</td>\n",
       "      <td>12</td>\n",
       "      <td>21.0</td>\n",
       "    </tr>\n",
       "    <tr>\n",
       "      <th>3</th>\n",
       "      <td>2254736</td>\n",
       "      <td>1</td>\n",
       "      <td>4</td>\n",
       "      <td>4</td>\n",
       "      <td>7</td>\n",
       "      <td>29.0</td>\n",
       "    </tr>\n",
       "    <tr>\n",
       "      <th>4</th>\n",
       "      <td>431534</td>\n",
       "      <td>1</td>\n",
       "      <td>5</td>\n",
       "      <td>4</td>\n",
       "      <td>15</td>\n",
       "      <td>28.0</td>\n",
       "    </tr>\n",
       "  </tbody>\n",
       "</table>\n",
       "</div>"
      ],
      "text/plain": [
       "  order_id  user_id  order_number  orders_day_of_week  time_of_day  \\\n",
       "0  2539329        1             1                   2            8   \n",
       "1  2398795        1             2                   3            7   \n",
       "2   473747        1             3                   3           12   \n",
       "3  2254736        1             4                   4            7   \n",
       "4   431534        1             5                   4           15   \n",
       "\n",
       "   days_since_prior_order  \n",
       "0                     NaN  \n",
       "1                    15.0  \n",
       "2                    21.0  \n",
       "3                    29.0  \n",
       "4                    28.0  "
      ]
     },
     "execution_count": 26,
     "metadata": {},
     "output_type": "execute_result"
    }
   ],
   "source": [
    "df_ords.head()"
   ]
  },
  {
   "cell_type": "markdown",
   "id": "1d8bc28a",
   "metadata": {},
   "source": [
    "# 4. Frequency of placing orders by the hour"
   ]
  },
  {
   "cell_type": "code",
   "execution_count": 27,
   "id": "68f629fe",
   "metadata": {},
   "outputs": [
    {
     "data": {
      "text/plain": [
       "time_of_day\n",
       "0      22758\n",
       "1      12398\n",
       "2       7539\n",
       "3       5474\n",
       "4       5527\n",
       "5       9569\n",
       "6      30529\n",
       "7      91868\n",
       "8     178201\n",
       "9     257812\n",
       "10    288418\n",
       "11    284728\n",
       "12    272841\n",
       "13    277999\n",
       "14    283042\n",
       "15    283639\n",
       "16    272553\n",
       "17    228795\n",
       "18    182912\n",
       "19    140569\n",
       "20    104292\n",
       "21     78109\n",
       "22     61468\n",
       "23     40043\n",
       "dtype: int64"
      ]
     },
     "execution_count": 27,
     "metadata": {},
     "output_type": "execute_result"
    }
   ],
   "source": [
    "df_ords.groupby('time_of_day').size()"
   ]
  },
  {
   "cell_type": "markdown",
   "id": "d824eb65",
   "metadata": {},
   "source": [
    "Frequency hour 10"
   ]
  },
  {
   "cell_type": "markdown",
   "id": "976f784b",
   "metadata": {},
   "source": [
    "# 5. Determining the meaning of value 4 in depratment_id"
   ]
  },
  {
   "cell_type": "code",
   "execution_count": 28,
   "id": "3dbd7df5",
   "metadata": {},
   "outputs": [],
   "source": [
    "# df_dep into a datadictionary\n",
    "data_dict = df_dep_t_new.to_dict('index')"
   ]
  },
  {
   "cell_type": "code",
   "execution_count": 29,
   "id": "0680e9f5",
   "metadata": {},
   "outputs": [
    {
     "data": {
      "text/plain": [
       "{'1': {'department': 'frozen'},\n",
       " '2': {'department': 'other'},\n",
       " '3': {'department': 'bakery'},\n",
       " '4': {'department': 'produce'},\n",
       " '5': {'department': 'alcohol'},\n",
       " '6': {'department': 'international'},\n",
       " '7': {'department': 'beverages'},\n",
       " '8': {'department': 'pets'},\n",
       " '9': {'department': 'dry goods pasta'},\n",
       " '10': {'department': 'bulk'},\n",
       " '11': {'department': 'personal care'},\n",
       " '12': {'department': 'meat seafood'},\n",
       " '13': {'department': 'pantry'},\n",
       " '14': {'department': 'breakfast'},\n",
       " '15': {'department': 'canned goods'},\n",
       " '16': {'department': 'dairy eggs'},\n",
       " '17': {'department': 'household'},\n",
       " '18': {'department': 'babies'},\n",
       " '19': {'department': 'snacks'},\n",
       " '20': {'department': 'deli'},\n",
       " '21': {'department': 'missing'}}"
      ]
     },
     "execution_count": 29,
     "metadata": {},
     "output_type": "execute_result"
    }
   ],
   "source": [
    "data_dict"
   ]
  },
  {
   "cell_type": "code",
   "execution_count": 30,
   "id": "062ddb64",
   "metadata": {},
   "outputs": [
    {
     "name": "stdout",
     "output_type": "stream",
     "text": [
      "{'department': 'produce'}\n"
     ]
    }
   ],
   "source": [
    "# department_id 4\n",
    "print(data_dict.get('4'))"
   ]
  },
  {
   "cell_type": "markdown",
   "id": "ea521466",
   "metadata": {},
   "source": [
    "# 6. Breakfast item sales for sales team"
   ]
  },
  {
   "cell_type": "code",
   "execution_count": 31,
   "id": "bc59c807",
   "metadata": {},
   "outputs": [],
   "source": [
    "# Creating subset for breakfast\n",
    "df_breakfast = df_prods[df_prods['department_id']==14]"
   ]
  },
  {
   "cell_type": "code",
   "execution_count": 32,
   "id": "030a74f0",
   "metadata": {
    "scrolled": false
   },
   "outputs": [
    {
     "data": {
      "text/html": [
       "<div>\n",
       "<style scoped>\n",
       "    .dataframe tbody tr th:only-of-type {\n",
       "        vertical-align: middle;\n",
       "    }\n",
       "\n",
       "    .dataframe tbody tr th {\n",
       "        vertical-align: top;\n",
       "    }\n",
       "\n",
       "    .dataframe thead th {\n",
       "        text-align: right;\n",
       "    }\n",
       "</style>\n",
       "<table border=\"1\" class=\"dataframe\">\n",
       "  <thead>\n",
       "    <tr style=\"text-align: right;\">\n",
       "      <th></th>\n",
       "      <th>product_id</th>\n",
       "      <th>product_name</th>\n",
       "      <th>aisle_id</th>\n",
       "      <th>department_id</th>\n",
       "      <th>prices</th>\n",
       "    </tr>\n",
       "  </thead>\n",
       "  <tbody>\n",
       "    <tr>\n",
       "      <th>27</th>\n",
       "      <td>28</td>\n",
       "      <td>Wheat Chex Cereal</td>\n",
       "      <td>121</td>\n",
       "      <td>14</td>\n",
       "      <td>10.1</td>\n",
       "    </tr>\n",
       "    <tr>\n",
       "      <th>33</th>\n",
       "      <td>34</td>\n",
       "      <td>NaN</td>\n",
       "      <td>121</td>\n",
       "      <td>14</td>\n",
       "      <td>12.2</td>\n",
       "    </tr>\n",
       "    <tr>\n",
       "      <th>67</th>\n",
       "      <td>68</td>\n",
       "      <td>Pancake Mix, Buttermilk</td>\n",
       "      <td>130</td>\n",
       "      <td>14</td>\n",
       "      <td>13.7</td>\n",
       "    </tr>\n",
       "    <tr>\n",
       "      <th>89</th>\n",
       "      <td>90</td>\n",
       "      <td>Smorz Cereal</td>\n",
       "      <td>121</td>\n",
       "      <td>14</td>\n",
       "      <td>3.9</td>\n",
       "    </tr>\n",
       "    <tr>\n",
       "      <th>210</th>\n",
       "      <td>211</td>\n",
       "      <td>Gluten Free Organic Cereal Coconut Maple Vanilla</td>\n",
       "      <td>130</td>\n",
       "      <td>14</td>\n",
       "      <td>3.6</td>\n",
       "    </tr>\n",
       "    <tr>\n",
       "      <th>...</th>\n",
       "      <td>...</td>\n",
       "      <td>...</td>\n",
       "      <td>...</td>\n",
       "      <td>...</td>\n",
       "      <td>...</td>\n",
       "    </tr>\n",
       "    <tr>\n",
       "      <th>49330</th>\n",
       "      <td>49326</td>\n",
       "      <td>Cereal Variety Fun Pack</td>\n",
       "      <td>121</td>\n",
       "      <td>14</td>\n",
       "      <td>9.1</td>\n",
       "    </tr>\n",
       "    <tr>\n",
       "      <th>49395</th>\n",
       "      <td>49391</td>\n",
       "      <td>Light and Fluffy Buttermilk Pancake Mix</td>\n",
       "      <td>130</td>\n",
       "      <td>14</td>\n",
       "      <td>2.0</td>\n",
       "    </tr>\n",
       "    <tr>\n",
       "      <th>49547</th>\n",
       "      <td>49543</td>\n",
       "      <td>Chocolate Cheerios Cereal</td>\n",
       "      <td>121</td>\n",
       "      <td>14</td>\n",
       "      <td>10.8</td>\n",
       "    </tr>\n",
       "    <tr>\n",
       "      <th>49637</th>\n",
       "      <td>49633</td>\n",
       "      <td>Shake 'N Pour Buttermilk Pancake Mix</td>\n",
       "      <td>130</td>\n",
       "      <td>14</td>\n",
       "      <td>14.2</td>\n",
       "    </tr>\n",
       "    <tr>\n",
       "      <th>49667</th>\n",
       "      <td>49663</td>\n",
       "      <td>Ultra Protein Power Crunch Peanut Butter N' Ho...</td>\n",
       "      <td>57</td>\n",
       "      <td>14</td>\n",
       "      <td>10.2</td>\n",
       "    </tr>\n",
       "  </tbody>\n",
       "</table>\n",
       "<p>1116 rows × 5 columns</p>\n",
       "</div>"
      ],
      "text/plain": [
       "       product_id                                       product_name  \\\n",
       "27             28                                  Wheat Chex Cereal   \n",
       "33             34                                                NaN   \n",
       "67             68                            Pancake Mix, Buttermilk   \n",
       "89             90                                       Smorz Cereal   \n",
       "210           211   Gluten Free Organic Cereal Coconut Maple Vanilla   \n",
       "...           ...                                                ...   \n",
       "49330       49326                            Cereal Variety Fun Pack   \n",
       "49395       49391            Light and Fluffy Buttermilk Pancake Mix   \n",
       "49547       49543                          Chocolate Cheerios Cereal   \n",
       "49637       49633               Shake 'N Pour Buttermilk Pancake Mix   \n",
       "49667       49663  Ultra Protein Power Crunch Peanut Butter N' Ho...   \n",
       "\n",
       "       aisle_id  department_id  prices  \n",
       "27          121             14    10.1  \n",
       "33          121             14    12.2  \n",
       "67          130             14    13.7  \n",
       "89          121             14     3.9  \n",
       "210         130             14     3.6  \n",
       "...         ...            ...     ...  \n",
       "49330       121             14     9.1  \n",
       "49395       130             14     2.0  \n",
       "49547       121             14    10.8  \n",
       "49637       130             14    14.2  \n",
       "49667        57             14    10.2  \n",
       "\n",
       "[1116 rows x 5 columns]"
      ]
     },
     "execution_count": 32,
     "metadata": {},
     "output_type": "execute_result"
    }
   ],
   "source": [
    "df_prods[df_prods['department_id']==14]"
   ]
  },
  {
   "cell_type": "code",
   "execution_count": 33,
   "id": "e06d5d82",
   "metadata": {},
   "outputs": [
    {
     "data": {
      "text/html": [
       "<div>\n",
       "<style scoped>\n",
       "    .dataframe tbody tr th:only-of-type {\n",
       "        vertical-align: middle;\n",
       "    }\n",
       "\n",
       "    .dataframe tbody tr th {\n",
       "        vertical-align: top;\n",
       "    }\n",
       "\n",
       "    .dataframe thead th {\n",
       "        text-align: right;\n",
       "    }\n",
       "</style>\n",
       "<table border=\"1\" class=\"dataframe\">\n",
       "  <thead>\n",
       "    <tr style=\"text-align: right;\">\n",
       "      <th></th>\n",
       "      <th>product_id</th>\n",
       "      <th>product_name</th>\n",
       "      <th>aisle_id</th>\n",
       "      <th>department_id</th>\n",
       "      <th>prices</th>\n",
       "    </tr>\n",
       "  </thead>\n",
       "  <tbody>\n",
       "    <tr>\n",
       "      <th>27</th>\n",
       "      <td>28</td>\n",
       "      <td>Wheat Chex Cereal</td>\n",
       "      <td>121</td>\n",
       "      <td>14</td>\n",
       "      <td>10.1</td>\n",
       "    </tr>\n",
       "    <tr>\n",
       "      <th>33</th>\n",
       "      <td>34</td>\n",
       "      <td>NaN</td>\n",
       "      <td>121</td>\n",
       "      <td>14</td>\n",
       "      <td>12.2</td>\n",
       "    </tr>\n",
       "    <tr>\n",
       "      <th>67</th>\n",
       "      <td>68</td>\n",
       "      <td>Pancake Mix, Buttermilk</td>\n",
       "      <td>130</td>\n",
       "      <td>14</td>\n",
       "      <td>13.7</td>\n",
       "    </tr>\n",
       "    <tr>\n",
       "      <th>89</th>\n",
       "      <td>90</td>\n",
       "      <td>Smorz Cereal</td>\n",
       "      <td>121</td>\n",
       "      <td>14</td>\n",
       "      <td>3.9</td>\n",
       "    </tr>\n",
       "    <tr>\n",
       "      <th>210</th>\n",
       "      <td>211</td>\n",
       "      <td>Gluten Free Organic Cereal Coconut Maple Vanilla</td>\n",
       "      <td>130</td>\n",
       "      <td>14</td>\n",
       "      <td>3.6</td>\n",
       "    </tr>\n",
       "  </tbody>\n",
       "</table>\n",
       "</div>"
      ],
      "text/plain": [
       "     product_id                                      product_name  aisle_id  \\\n",
       "27           28                                 Wheat Chex Cereal       121   \n",
       "33           34                                               NaN       121   \n",
       "67           68                           Pancake Mix, Buttermilk       130   \n",
       "89           90                                      Smorz Cereal       121   \n",
       "210         211  Gluten Free Organic Cereal Coconut Maple Vanilla       130   \n",
       "\n",
       "     department_id  prices  \n",
       "27              14    10.1  \n",
       "33              14    12.2  \n",
       "67              14    13.7  \n",
       "89              14     3.9  \n",
       "210             14     3.6  "
      ]
     },
     "execution_count": 33,
     "metadata": {},
     "output_type": "execute_result"
    }
   ],
   "source": [
    "df_breakfast.head()"
   ]
  },
  {
   "cell_type": "markdown",
   "id": "e530d0eb",
   "metadata": {},
   "source": [
    "# 7. subset for alcohol, deli, beverages, meat/seafood"
   ]
  },
  {
   "cell_type": "code",
   "execution_count": 34,
   "id": "63ddb593",
   "metadata": {},
   "outputs": [],
   "source": [
    "# subset for alcohol, beverages, deli, meat/seafood\n",
    "df_dinner_parties = df_prods.loc[df_prods['department_id'].isin([20, 5, 7, 12])]"
   ]
  },
  {
   "cell_type": "code",
   "execution_count": 35,
   "id": "5a27abe6",
   "metadata": {},
   "outputs": [
    {
     "data": {
      "text/html": [
       "<div>\n",
       "<style scoped>\n",
       "    .dataframe tbody tr th:only-of-type {\n",
       "        vertical-align: middle;\n",
       "    }\n",
       "\n",
       "    .dataframe tbody tr th {\n",
       "        vertical-align: top;\n",
       "    }\n",
       "\n",
       "    .dataframe thead th {\n",
       "        text-align: right;\n",
       "    }\n",
       "</style>\n",
       "<table border=\"1\" class=\"dataframe\">\n",
       "  <thead>\n",
       "    <tr style=\"text-align: right;\">\n",
       "      <th></th>\n",
       "      <th>product_id</th>\n",
       "      <th>product_name</th>\n",
       "      <th>aisle_id</th>\n",
       "      <th>department_id</th>\n",
       "      <th>prices</th>\n",
       "    </tr>\n",
       "  </thead>\n",
       "  <tbody>\n",
       "    <tr>\n",
       "      <th>2</th>\n",
       "      <td>3</td>\n",
       "      <td>Robust Golden Unsweetened Oolong Tea</td>\n",
       "      <td>94</td>\n",
       "      <td>7</td>\n",
       "      <td>4.5</td>\n",
       "    </tr>\n",
       "    <tr>\n",
       "      <th>6</th>\n",
       "      <td>7</td>\n",
       "      <td>Pure Coconut Water With Orange</td>\n",
       "      <td>98</td>\n",
       "      <td>7</td>\n",
       "      <td>4.4</td>\n",
       "    </tr>\n",
       "    <tr>\n",
       "      <th>9</th>\n",
       "      <td>10</td>\n",
       "      <td>Sparkling Orange Juice &amp; Prickly Pear Beverage</td>\n",
       "      <td>115</td>\n",
       "      <td>7</td>\n",
       "      <td>8.4</td>\n",
       "    </tr>\n",
       "    <tr>\n",
       "      <th>10</th>\n",
       "      <td>11</td>\n",
       "      <td>Peach Mango Juice</td>\n",
       "      <td>31</td>\n",
       "      <td>7</td>\n",
       "      <td>2.8</td>\n",
       "    </tr>\n",
       "    <tr>\n",
       "      <th>16</th>\n",
       "      <td>17</td>\n",
       "      <td>Rendered Duck Fat</td>\n",
       "      <td>35</td>\n",
       "      <td>12</td>\n",
       "      <td>17.1</td>\n",
       "    </tr>\n",
       "  </tbody>\n",
       "</table>\n",
       "</div>"
      ],
      "text/plain": [
       "    product_id                                    product_name  aisle_id  \\\n",
       "2            3            Robust Golden Unsweetened Oolong Tea        94   \n",
       "6            7                  Pure Coconut Water With Orange        98   \n",
       "9           10  Sparkling Orange Juice & Prickly Pear Beverage       115   \n",
       "10          11                               Peach Mango Juice        31   \n",
       "16          17                               Rendered Duck Fat        35   \n",
       "\n",
       "    department_id  prices  \n",
       "2               7     4.5  \n",
       "6               7     4.4  \n",
       "9               7     8.4  \n",
       "10              7     2.8  \n",
       "16             12    17.1  "
      ]
     },
     "execution_count": 35,
     "metadata": {},
     "output_type": "execute_result"
    }
   ],
   "source": [
    "df_dinner_parties.head()"
   ]
  },
  {
   "cell_type": "markdown",
   "id": "3c7cc962",
   "metadata": {},
   "source": [
    "# 8. Toal counts of rows for last 2 df"
   ]
  },
  {
   "cell_type": "code",
   "execution_count": 36,
   "id": "928802cd",
   "metadata": {},
   "outputs": [
    {
     "data": {
      "text/plain": [
       "(7650, 5)"
      ]
     },
     "execution_count": 36,
     "metadata": {},
     "output_type": "execute_result"
    }
   ],
   "source": [
    "# count of rows in df_dinner_parties\n",
    "df_dinner_parties.shape"
   ]
  },
  {
   "cell_type": "markdown",
   "id": "5927d39e",
   "metadata": {},
   "source": [
    "# 9. User_id 1 information for data engineers"
   ]
  },
  {
   "cell_type": "code",
   "execution_count": 37,
   "id": "719b4af1",
   "metadata": {
    "scrolled": true
   },
   "outputs": [
    {
     "data": {
      "text/plain": [
       "0           True\n",
       "1           True\n",
       "2           True\n",
       "3           True\n",
       "4           True\n",
       "           ...  \n",
       "3421078    False\n",
       "3421079    False\n",
       "3421080    False\n",
       "3421081    False\n",
       "3421082    False\n",
       "Name: user_id, Length: 3421083, dtype: bool"
      ]
     },
     "execution_count": 37,
     "metadata": {},
     "output_type": "execute_result"
    }
   ],
   "source": [
    "# Creating a subset for user_id 1\n",
    "df_ords['user_id']==1"
   ]
  },
  {
   "cell_type": "code",
   "execution_count": 38,
   "id": "da9cd13b",
   "metadata": {},
   "outputs": [],
   "source": [
    "df_ords_user_id = df_ords[df_ords['user_id']==1]"
   ]
  },
  {
   "cell_type": "code",
   "execution_count": 39,
   "id": "00bf8aae",
   "metadata": {},
   "outputs": [
    {
     "data": {
      "text/html": [
       "<div>\n",
       "<style scoped>\n",
       "    .dataframe tbody tr th:only-of-type {\n",
       "        vertical-align: middle;\n",
       "    }\n",
       "\n",
       "    .dataframe tbody tr th {\n",
       "        vertical-align: top;\n",
       "    }\n",
       "\n",
       "    .dataframe thead th {\n",
       "        text-align: right;\n",
       "    }\n",
       "</style>\n",
       "<table border=\"1\" class=\"dataframe\">\n",
       "  <thead>\n",
       "    <tr style=\"text-align: right;\">\n",
       "      <th></th>\n",
       "      <th>order_id</th>\n",
       "      <th>user_id</th>\n",
       "      <th>order_number</th>\n",
       "      <th>orders_day_of_week</th>\n",
       "      <th>time_of_day</th>\n",
       "      <th>days_since_prior_order</th>\n",
       "    </tr>\n",
       "  </thead>\n",
       "  <tbody>\n",
       "    <tr>\n",
       "      <th>0</th>\n",
       "      <td>2539329</td>\n",
       "      <td>1</td>\n",
       "      <td>1</td>\n",
       "      <td>2</td>\n",
       "      <td>8</td>\n",
       "      <td>NaN</td>\n",
       "    </tr>\n",
       "    <tr>\n",
       "      <th>1</th>\n",
       "      <td>2398795</td>\n",
       "      <td>1</td>\n",
       "      <td>2</td>\n",
       "      <td>3</td>\n",
       "      <td>7</td>\n",
       "      <td>15.0</td>\n",
       "    </tr>\n",
       "    <tr>\n",
       "      <th>2</th>\n",
       "      <td>473747</td>\n",
       "      <td>1</td>\n",
       "      <td>3</td>\n",
       "      <td>3</td>\n",
       "      <td>12</td>\n",
       "      <td>21.0</td>\n",
       "    </tr>\n",
       "    <tr>\n",
       "      <th>3</th>\n",
       "      <td>2254736</td>\n",
       "      <td>1</td>\n",
       "      <td>4</td>\n",
       "      <td>4</td>\n",
       "      <td>7</td>\n",
       "      <td>29.0</td>\n",
       "    </tr>\n",
       "    <tr>\n",
       "      <th>4</th>\n",
       "      <td>431534</td>\n",
       "      <td>1</td>\n",
       "      <td>5</td>\n",
       "      <td>4</td>\n",
       "      <td>15</td>\n",
       "      <td>28.0</td>\n",
       "    </tr>\n",
       "    <tr>\n",
       "      <th>5</th>\n",
       "      <td>3367565</td>\n",
       "      <td>1</td>\n",
       "      <td>6</td>\n",
       "      <td>2</td>\n",
       "      <td>7</td>\n",
       "      <td>19.0</td>\n",
       "    </tr>\n",
       "    <tr>\n",
       "      <th>6</th>\n",
       "      <td>550135</td>\n",
       "      <td>1</td>\n",
       "      <td>7</td>\n",
       "      <td>1</td>\n",
       "      <td>9</td>\n",
       "      <td>20.0</td>\n",
       "    </tr>\n",
       "    <tr>\n",
       "      <th>7</th>\n",
       "      <td>3108588</td>\n",
       "      <td>1</td>\n",
       "      <td>8</td>\n",
       "      <td>1</td>\n",
       "      <td>14</td>\n",
       "      <td>14.0</td>\n",
       "    </tr>\n",
       "    <tr>\n",
       "      <th>8</th>\n",
       "      <td>2295261</td>\n",
       "      <td>1</td>\n",
       "      <td>9</td>\n",
       "      <td>1</td>\n",
       "      <td>16</td>\n",
       "      <td>0.0</td>\n",
       "    </tr>\n",
       "    <tr>\n",
       "      <th>9</th>\n",
       "      <td>2550362</td>\n",
       "      <td>1</td>\n",
       "      <td>10</td>\n",
       "      <td>4</td>\n",
       "      <td>8</td>\n",
       "      <td>30.0</td>\n",
       "    </tr>\n",
       "    <tr>\n",
       "      <th>10</th>\n",
       "      <td>1187899</td>\n",
       "      <td>1</td>\n",
       "      <td>11</td>\n",
       "      <td>4</td>\n",
       "      <td>8</td>\n",
       "      <td>14.0</td>\n",
       "    </tr>\n",
       "  </tbody>\n",
       "</table>\n",
       "</div>"
      ],
      "text/plain": [
       "   order_id  user_id  order_number  orders_day_of_week  time_of_day  \\\n",
       "0   2539329        1             1                   2            8   \n",
       "1   2398795        1             2                   3            7   \n",
       "2    473747        1             3                   3           12   \n",
       "3   2254736        1             4                   4            7   \n",
       "4    431534        1             5                   4           15   \n",
       "5   3367565        1             6                   2            7   \n",
       "6    550135        1             7                   1            9   \n",
       "7   3108588        1             8                   1           14   \n",
       "8   2295261        1             9                   1           16   \n",
       "9   2550362        1            10                   4            8   \n",
       "10  1187899        1            11                   4            8   \n",
       "\n",
       "    days_since_prior_order  \n",
       "0                      NaN  \n",
       "1                     15.0  \n",
       "2                     21.0  \n",
       "3                     29.0  \n",
       "4                     28.0  \n",
       "5                     19.0  \n",
       "6                     20.0  \n",
       "7                     14.0  \n",
       "8                      0.0  \n",
       "9                     30.0  \n",
       "10                    14.0  "
      ]
     },
     "execution_count": 39,
     "metadata": {},
     "output_type": "execute_result"
    }
   ],
   "source": [
    "df_ords_user_id"
   ]
  },
  {
   "cell_type": "code",
   "execution_count": 40,
   "id": "d58b08cf",
   "metadata": {},
   "outputs": [
    {
     "data": {
      "text/plain": [
       "(11, 6)"
      ]
     },
     "execution_count": 40,
     "metadata": {},
     "output_type": "execute_result"
    }
   ],
   "source": [
    "df_ords_user_id.shape"
   ]
  },
  {
   "cell_type": "code",
   "execution_count": 41,
   "id": "9fa6f76b",
   "metadata": {},
   "outputs": [
    {
     "name": "stdout",
     "output_type": "stream",
     "text": [
      "<class 'pandas.core.frame.DataFrame'>\n",
      "Index: 11 entries, 0 to 10\n",
      "Data columns (total 6 columns):\n",
      " #   Column                  Non-Null Count  Dtype  \n",
      "---  ------                  --------------  -----  \n",
      " 0   order_id                11 non-null     object \n",
      " 1   user_id                 11 non-null     int64  \n",
      " 2   order_number            11 non-null     int64  \n",
      " 3   orders_day_of_week      11 non-null     int64  \n",
      " 4   time_of_day             11 non-null     int64  \n",
      " 5   days_since_prior_order  10 non-null     float64\n",
      "dtypes: float64(1), int64(4), object(1)\n",
      "memory usage: 616.0+ bytes\n"
     ]
    }
   ],
   "source": [
    "df_ords_user_id.info()"
   ]
  },
  {
   "cell_type": "markdown",
   "id": "9cd5a551",
   "metadata": {},
   "source": [
    "# 10. Basic Stats on user_id 1"
   ]
  },
  {
   "cell_type": "code",
   "execution_count": 42,
   "id": "b5305d7b",
   "metadata": {},
   "outputs": [
    {
     "data": {
      "text/html": [
       "<div>\n",
       "<style scoped>\n",
       "    .dataframe tbody tr th:only-of-type {\n",
       "        vertical-align: middle;\n",
       "    }\n",
       "\n",
       "    .dataframe tbody tr th {\n",
       "        vertical-align: top;\n",
       "    }\n",
       "\n",
       "    .dataframe thead th {\n",
       "        text-align: right;\n",
       "    }\n",
       "</style>\n",
       "<table border=\"1\" class=\"dataframe\">\n",
       "  <thead>\n",
       "    <tr style=\"text-align: right;\">\n",
       "      <th></th>\n",
       "      <th>user_id</th>\n",
       "      <th>order_number</th>\n",
       "      <th>orders_day_of_week</th>\n",
       "      <th>time_of_day</th>\n",
       "      <th>days_since_prior_order</th>\n",
       "    </tr>\n",
       "  </thead>\n",
       "  <tbody>\n",
       "    <tr>\n",
       "      <th>count</th>\n",
       "      <td>11.0</td>\n",
       "      <td>11.000000</td>\n",
       "      <td>11.000000</td>\n",
       "      <td>11.000000</td>\n",
       "      <td>10.000000</td>\n",
       "    </tr>\n",
       "    <tr>\n",
       "      <th>mean</th>\n",
       "      <td>1.0</td>\n",
       "      <td>6.000000</td>\n",
       "      <td>2.636364</td>\n",
       "      <td>10.090909</td>\n",
       "      <td>19.000000</td>\n",
       "    </tr>\n",
       "    <tr>\n",
       "      <th>std</th>\n",
       "      <td>0.0</td>\n",
       "      <td>3.316625</td>\n",
       "      <td>1.286291</td>\n",
       "      <td>3.477198</td>\n",
       "      <td>9.030811</td>\n",
       "    </tr>\n",
       "    <tr>\n",
       "      <th>min</th>\n",
       "      <td>1.0</td>\n",
       "      <td>1.000000</td>\n",
       "      <td>1.000000</td>\n",
       "      <td>7.000000</td>\n",
       "      <td>0.000000</td>\n",
       "    </tr>\n",
       "    <tr>\n",
       "      <th>25%</th>\n",
       "      <td>1.0</td>\n",
       "      <td>3.500000</td>\n",
       "      <td>1.500000</td>\n",
       "      <td>7.500000</td>\n",
       "      <td>14.250000</td>\n",
       "    </tr>\n",
       "    <tr>\n",
       "      <th>50%</th>\n",
       "      <td>1.0</td>\n",
       "      <td>6.000000</td>\n",
       "      <td>3.000000</td>\n",
       "      <td>8.000000</td>\n",
       "      <td>19.500000</td>\n",
       "    </tr>\n",
       "    <tr>\n",
       "      <th>75%</th>\n",
       "      <td>1.0</td>\n",
       "      <td>8.500000</td>\n",
       "      <td>4.000000</td>\n",
       "      <td>13.000000</td>\n",
       "      <td>26.250000</td>\n",
       "    </tr>\n",
       "    <tr>\n",
       "      <th>max</th>\n",
       "      <td>1.0</td>\n",
       "      <td>11.000000</td>\n",
       "      <td>4.000000</td>\n",
       "      <td>16.000000</td>\n",
       "      <td>30.000000</td>\n",
       "    </tr>\n",
       "  </tbody>\n",
       "</table>\n",
       "</div>"
      ],
      "text/plain": [
       "       user_id  order_number  orders_day_of_week  time_of_day  \\\n",
       "count     11.0     11.000000           11.000000    11.000000   \n",
       "mean       1.0      6.000000            2.636364    10.090909   \n",
       "std        0.0      3.316625            1.286291     3.477198   \n",
       "min        1.0      1.000000            1.000000     7.000000   \n",
       "25%        1.0      3.500000            1.500000     7.500000   \n",
       "50%        1.0      6.000000            3.000000     8.000000   \n",
       "75%        1.0      8.500000            4.000000    13.000000   \n",
       "max        1.0     11.000000            4.000000    16.000000   \n",
       "\n",
       "       days_since_prior_order  \n",
       "count               10.000000  \n",
       "mean                19.000000  \n",
       "std                  9.030811  \n",
       "min                  0.000000  \n",
       "25%                 14.250000  \n",
       "50%                 19.500000  \n",
       "75%                 26.250000  \n",
       "max                 30.000000  "
      ]
     },
     "execution_count": 42,
     "metadata": {},
     "output_type": "execute_result"
    }
   ],
   "source": [
    "df_ords_user_id.describe()"
   ]
  },
  {
   "cell_type": "markdown",
   "id": "0f01a5b5",
   "metadata": {},
   "source": [
    "# exporting to prepared data "
   ]
  },
  {
   "cell_type": "code",
   "execution_count": 43,
   "id": "52911416",
   "metadata": {},
   "outputs": [],
   "source": [
    "df_ords.to_csv(os.path.join(path, '02 Data','Prepared Data', 'orders_wrangled.csv'))"
   ]
  },
  {
   "cell_type": "code",
   "execution_count": 44,
   "id": "34f34e08",
   "metadata": {},
   "outputs": [],
   "source": [
    "df_dep_t_new.to_csv(os.path.join(path, '02 Data', 'Prepared Data', 'departments_wrangled.csv'))"
   ]
  },
  {
   "cell_type": "code",
   "execution_count": 45,
   "id": "4b261b39",
   "metadata": {},
   "outputs": [
    {
     "data": {
      "text/plain": [
       "[Text(0, 0.5, 'Number of Orders'),\n",
       " Text(0.5, 1.0, 'Number of Orders by Department')]"
      ]
     },
     "execution_count": 45,
     "metadata": {},
     "output_type": "execute_result"
    },
    {
     "data": {
      "image/png": "[encoded data removed]",
      "text/plain": [
       "<Figure size 640x480 with 1 Axes>"
      ]
     },
     "metadata": {},
     "output_type": "display_data"
    }
   ],
   "source": [
    "bar_dep= df_dep_t_new['department'].value_counts().plot.bar()\n",
    "bar_dep.set( ylabel= 'Number of Orders', title='Number of Orders by Department')"
   ]
  },
  {
   "cell_type": "code",
   "execution_count": null,
   "id": "4ece70c8",
   "metadata": {},
   "outputs": [],
   "source": []
  }
 ],
 "metadata": {
  "kernelspec": {
   "display_name": "Python 3 (ipykernel)",
   "language": "python",
   "name": "python3"
  },
  "language_info": {
   "codemirror_mode": {
    "name": "ipython",
    "version": 3
   },
   "file_extension": ".py",
   "mimetype": "text/x-python",
   "name": "python",
   "nbconvert_exporter": "python",
   "pygments_lexer": "ipython3",
   "version": "3.11.5"
  }
 },
 "nbformat": 4,
 "nbformat_minor": 5
}
