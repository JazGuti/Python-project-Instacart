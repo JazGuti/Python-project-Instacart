{
 "cells": [
  {
   "cell_type": "markdown",
   "id": "b1b4b2ff",
   "metadata": {},
   "source": [
    "# 01. Importing libraries"
   ]
  },
  {
   "cell_type": "code",
   "execution_count": 2,
   "id": "7d2e7b82",
   "metadata": {},
   "outputs": [],
   "source": [
    "# Import libraries\n",
    "import pandas as pd\n",
    "import numpy as np\n",
    "import os"
   ]
  },
  {
   "cell_type": "markdown",
   "id": "3708d59e",
   "metadata": {},
   "source": [
    "# 02. Working with Python data types"
   ]
  },
  {
   "cell_type": "markdown",
   "id": "7f3f71f6",
   "metadata": {},
   "source": [
    "## .7"
   ]
  },
  {
   "cell_type": "code",
   "execution_count": 3,
   "id": "56958dc9",
   "metadata": {},
   "outputs": [],
   "source": [
    "x=20"
   ]
  },
  {
   "cell_type": "code",
   "execution_count": 4,
   "id": "221ffa33",
   "metadata": {},
   "outputs": [],
   "source": [
    "y=80"
   ]
  },
  {
   "cell_type": "code",
   "execution_count": 5,
   "id": "c4cbbf15",
   "metadata": {},
   "outputs": [
    {
     "data": {
      "text/plain": [
       "100"
      ]
     },
     "execution_count": 5,
     "metadata": {},
     "output_type": "execute_result"
    }
   ],
   "source": [
    "x+y"
   ]
  },
  {
   "cell_type": "code",
   "execution_count": 7,
   "id": "b59c6044",
   "metadata": {},
   "outputs": [],
   "source": [
    "y=y+20"
   ]
  },
  {
   "cell_type": "code",
   "execution_count": 8,
   "id": "89d58256",
   "metadata": {},
   "outputs": [
    {
     "name": "stdout",
     "output_type": "stream",
     "text": [
      "100\n"
     ]
    }
   ],
   "source": [
    "print(y)"
   ]
  },
  {
   "cell_type": "code",
   "execution_count": 9,
   "id": "537871c1",
   "metadata": {},
   "outputs": [],
   "source": [
    "z=0"
   ]
  },
  {
   "cell_type": "code",
   "execution_count": 10,
   "id": "d15423b4",
   "metadata": {},
   "outputs": [
    {
     "data": {
      "text/plain": [
       "100"
      ]
     },
     "execution_count": 10,
     "metadata": {},
     "output_type": "execute_result"
    }
   ],
   "source": [
    "y-0"
   ]
  },
  {
   "cell_type": "code",
   "execution_count": 11,
   "id": "46b771f4",
   "metadata": {},
   "outputs": [
    {
     "data": {
      "text/plain": [
       "100"
      ]
     },
     "execution_count": 11,
     "metadata": {},
     "output_type": "execute_result"
    }
   ],
   "source": [
    "y+z"
   ]
  },
  {
   "cell_type": "markdown",
   "id": "33e62c9c",
   "metadata": {},
   "source": [
    "## 8."
   ]
  },
  {
   "cell_type": "code",
   "execution_count": 12,
   "id": "2fb519e1",
   "metadata": {},
   "outputs": [],
   "source": [
    "x=5.5"
   ]
  },
  {
   "cell_type": "code",
   "execution_count": 13,
   "id": "5f362a2c",
   "metadata": {},
   "outputs": [
    {
     "data": {
      "text/plain": [
       "float"
      ]
     },
     "execution_count": 13,
     "metadata": {},
     "output_type": "execute_result"
    }
   ],
   "source": [
    "type(x)"
   ]
  },
  {
   "cell_type": "code",
   "execution_count": 14,
   "id": "7f361cfd",
   "metadata": {},
   "outputs": [],
   "source": [
    "y=10.8"
   ]
  },
  {
   "cell_type": "code",
   "execution_count": 15,
   "id": "253e6712",
   "metadata": {},
   "outputs": [
    {
     "data": {
      "text/plain": [
       "float"
      ]
     },
     "execution_count": 15,
     "metadata": {},
     "output_type": "execute_result"
    }
   ],
   "source": [
    "type(y)"
   ]
  },
  {
   "cell_type": "code",
   "execution_count": 17,
   "id": "b67750d3",
   "metadata": {},
   "outputs": [
    {
     "data": {
      "text/plain": [
       "1.9636363636363638"
      ]
     },
     "execution_count": 17,
     "metadata": {},
     "output_type": "execute_result"
    }
   ],
   "source": [
    "y/x"
   ]
  },
  {
   "cell_type": "markdown",
   "id": "47221d1c",
   "metadata": {},
   "source": [
    "## 9."
   ]
  },
  {
   "cell_type": "code",
   "execution_count": 23,
   "id": "33558851",
   "metadata": {},
   "outputs": [],
   "source": [
    "a='My '"
   ]
  },
  {
   "cell_type": "code",
   "execution_count": 24,
   "id": "2e561f40",
   "metadata": {},
   "outputs": [],
   "source": [
    "b='name '"
   ]
  },
  {
   "cell_type": "code",
   "execution_count": 25,
   "id": "afef4367",
   "metadata": {},
   "outputs": [],
   "source": [
    "c='is '"
   ]
  },
  {
   "cell_type": "code",
   "execution_count": 26,
   "id": "d3f5213f",
   "metadata": {},
   "outputs": [],
   "source": [
    "d='Jazmin.'"
   ]
  },
  {
   "cell_type": "code",
   "execution_count": 28,
   "id": "f70cb8df",
   "metadata": {},
   "outputs": [],
   "source": [
    "e='How '"
   ]
  },
  {
   "cell_type": "code",
   "execution_count": 29,
   "id": "453fd61a",
   "metadata": {},
   "outputs": [],
   "source": [
    "f='are '"
   ]
  },
  {
   "cell_type": "code",
   "execution_count": 30,
   "id": "ae843345",
   "metadata": {},
   "outputs": [],
   "source": [
    "g='you '"
   ]
  },
  {
   "cell_type": "code",
   "execution_count": 31,
   "id": "9c1e4e6c",
   "metadata": {},
   "outputs": [],
   "source": [
    "h='doing '"
   ]
  },
  {
   "cell_type": "code",
   "execution_count": 32,
   "id": "388c383e",
   "metadata": {},
   "outputs": [],
   "source": [
    "i='today?'"
   ]
  },
  {
   "cell_type": "markdown",
   "id": "71e75649",
   "metadata": {},
   "source": [
    "## 10."
   ]
  },
  {
   "cell_type": "code",
   "execution_count": 27,
   "id": "178a46fe",
   "metadata": {},
   "outputs": [
    {
     "data": {
      "text/plain": [
       "'My name is Jazmin.'"
      ]
     },
     "execution_count": 27,
     "metadata": {},
     "output_type": "execute_result"
    }
   ],
   "source": [
    "a+b+c+d"
   ]
  },
  {
   "cell_type": "code",
   "execution_count": 33,
   "id": "c76587e9",
   "metadata": {},
   "outputs": [
    {
     "data": {
      "text/plain": [
       "'How are you doing today?'"
      ]
     },
     "execution_count": 33,
     "metadata": {},
     "output_type": "execute_result"
    }
   ],
   "source": [
    "e+f+g+h+i"
   ]
  },
  {
   "cell_type": "code",
   "execution_count": null,
   "id": "3afc4711",
   "metadata": {},
   "outputs": [],
   "source": []
  }
 ],
 "metadata": {
  "kernelspec": {
   "display_name": "Python 3 (ipykernel)",
   "language": "python",
   "name": "python3"
  },
  "language_info": {
   "codemirror_mode": {
    "name": "ipython",
    "version": 3
   },
   "file_extension": ".py",
   "mimetype": "text/x-python",
   "name": "python",
   "nbconvert_exporter": "python",
   "pygments_lexer": "ipython3",
   "version": "3.11.5"
  }
 },
 "nbformat": 4,
 "nbformat_minor": 5
}
